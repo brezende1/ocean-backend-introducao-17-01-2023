{
  "nbformat": 4,
  "nbformat_minor": 0,
  "metadata": {
    "colab": {
      "name": "ocean_Blockchain_19-01-2023.ipynb",
      "provenance": [],
      "include_colab_link": true
    },
    "kernelspec": {
      "name": "python3",
      "display_name": "Python 3"
    },
    "language_info": {
      "name": "python"
    }
  },
  "cells": [
    {
      "cell_type": "markdown",
      "metadata": {
        "id": "view-in-github",
        "colab_type": "text"
      },
      "source": [
        "<a href=\"https://colab.research.google.com/github/brezende1/ocean-backend-introducao-17-01-2023/blob/main/ocean_Blockchain_19_01_2023.ipynb\" target=\"_parent\"><img src=\"https://colab.research.google.com/assets/colab-badge.svg\" alt=\"Open In Colab\"/></a>"
      ]
    },
    {
      "cell_type": "code",
      "metadata": {
        "id": "RitgJBMXh3Nd"
      },
      "source": [
        "import hashlib\n",
        "import time"
      ],
      "execution_count": 1,
      "outputs": []
    },
    {
      "cell_type": "code",
      "metadata": {
        "colab": {
          "base_uri": "https://localhost:8080/"
        },
        "id": "onZeX_H-h9Pz",
        "outputId": "d75aa90c-7def-438d-87ed-8dc10d83da02"
      },
      "source": [
        "blocks = [] #armazena todos os hashs\n",
        "complete_blocks=[] #armazena todos os blocos \n",
        "\n",
        "#algoritmo SHA-256\n",
        "def encrypt_string(hash_string):\n",
        "    sha_signature = \\\n",
        "        hashlib.sha256(hash_string.encode()).hexdigest()\n",
        "    return sha_signature\n",
        "\n",
        "#verifica validade do hash\n",
        "def valid_proof(hash):\n",
        "    difficulty=\"000\" #nºde \"0\"(zeros iniciando o hash) a0fa42\n",
        "    if hash.startswith(difficulty):\n",
        "        return True\n",
        "    return False\n",
        "\n",
        "def proofOfWork(data, timestamp, prev_hash, index):\n",
        "    _hash = \"\"\n",
        "    nonce = 0\n",
        "    while not valid_proof(_hash):\n",
        "        block_property = data + str(timestamp) + str(prev_hash) + str(index) + str(nonce)\n",
        "        _hash = encrypt_string(block_property)\n",
        "        nonce += 1\n",
        "    #Estrutura do bloco considerando suas propriedades //formatado para exibição\n",
        "    datas= \"Data: \"+ data +\" , \"+ \"Nonce: \"+str(nonce)+\" , \"+\"Hash anterior: \"+ str(prev_hash) +\" , \"+\"Hash: \"+_hash +\" , \"+\"Timestamp: \"+str(timestamp)\n",
        " \n",
        "    complete_blocks.append(datas)\n",
        "    blocks.append(_hash)\n",
        "    \n",
        "def getLastHash():\n",
        "    return blocks[len(blocks) - 1]\n",
        "\n",
        "def addNewBlock(content):\n",
        "    _index = len(blocks)\n",
        "    timestamp = time.time()\n",
        "    prev_hash = getLastHash()\n",
        "    proofOfWork(content, timestamp, prev_hash, _index)\n",
        "\n",
        "#retorna todos os blocos e suas propiedades\n",
        "def getAllBlocks():\n",
        "    for i in range(0, len(blocks)):\n",
        "        print(complete_blocks[i])\n",
        "\n",
        "#inicializa o bloco inicial da cadeia\n",
        "def initBlock():\n",
        "    data = \"GENESIS 'Marco 0' \"\n",
        "    timestamp = time.time()\n",
        "    prev_hash = 0\n",
        "    index = 0\n",
        "    proofOfWork(data, timestamp, prev_hash, index)   \n",
        "    \n",
        "#inicia a cadeia\n",
        "initBlock()\n",
        "#Solicito a criação e inserção de 2 novos blocos\n",
        "addNewBlock(\"Novo Bloco 15/07\")\n",
        "addNewBlock(\"Blockchain S2 \")\n",
        "#Retorno toda a cadeia de blocos\n",
        "getAllBlocks()"
      ],
      "execution_count": 6,
      "outputs": [
        {
          "output_type": "stream",
          "name": "stdout",
          "text": [
            "Data: GENESIS 'Marco 0'  , Nonce: 941 , Hash anterior: 0 , Hash: 000617db3de5a29e04f9bdfcb70719890cfd6ed57f4e840d9320431fb6a38d0a , Timestamp: 1642617544.923373\n",
            "Data: Novo Bloco 15/07 , Nonce: 2013 , Hash anterior: 000617db3de5a29e04f9bdfcb70719890cfd6ed57f4e840d9320431fb6a38d0a , Hash: 000916efa3a814053692d90df38ab16dd8bcfee07a30749006c13d2a3444f19c , Timestamp: 1642617544.9261315\n",
            "Data: Blockchain S2  , Nonce: 466 , Hash anterior: 000916efa3a814053692d90df38ab16dd8bcfee07a30749006c13d2a3444f19c , Hash: 00033696e3b7de7c1193b5d064df8329773a89d45cbf47a5b7445c5ad908e32b , Timestamp: 1642617544.9325044\n"
          ]
        }
      ]
    },
    {
      "cell_type": "code",
      "metadata": {
        "id": "WMr--bEUiW7A"
      },
      "source": [
        "#Artigo  no Medium LINK: https://medium.com/@felipemfp/entendendo-como-funciona-uma-blockchain-com-python-4e5a66f09e16\n",
        "#Demonstração da concepção de blocos no blockchain: https://blockchaindemo.io/"
      ],
      "execution_count": 14,
      "outputs": []
    },
    {
      "cell_type": "markdown",
      "source": [
        "Interessante que a gravação dos dados de hash anterior e atual tornam os dados involáveis para alterá-los. \n",
        "\n",
        "A própria redde verifica os nós, por meios dos hash e a criptografia sha256.\n",
        "Isso mostra a escalabilidade da rede e sua segurança. \n",
        "\n",
        "Esse mecanismo certifica os princípios da seg da info. \n"
      ],
      "metadata": {
        "id": "mjlfAXPbt8u_"
      }
    },
    {
      "cell_type": "markdown",
      "source": [
        ""
      ],
      "metadata": {
        "id": "z_Xa2fByuf_T"
      }
    },
    {
      "cell_type": "markdown",
      "source": [
        ""
      ],
      "metadata": {
        "id": "Yaktc6IpwI1y"
      }
    },
    {
      "cell_type": "code",
      "source": [
        ""
      ],
      "metadata": {
        "id": "mGZbxiVsufQd"
      },
      "execution_count": null,
      "outputs": []
    }
  ]
}